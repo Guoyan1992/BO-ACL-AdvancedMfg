{
 "cells": [
  {
   "cell_type": "code",
   "execution_count": 1,
   "metadata": {},
   "outputs": [],
   "source": [
    "import pandas as pd \n",
    "import numpy as np\n",
    "from doepy import build\n",
    "import seaborn as sns\n",
    "import matplotlib.pyplot as plt\n",
    "import pickle\n",
    "import warnings\n",
    "warnings.filterwarnings('ignore')"
   ]
  },
  {
   "cell_type": "code",
   "execution_count": 2,
   "metadata": {},
   "outputs": [],
   "source": [
    "from IISEPaper import categorise\n",
    "from IISEPaper import get_labeled_index\n",
    "from IISEPaper import get_feature_label\n",
    "from IISEPaper import get_labeled_set\n",
    "from IISEPaper import get_training_Set\n",
    "from IISEPaper import get_unlabeled_set\n",
    "from IISEPaper import c_prediction\n",
    "from sklearn.gaussian_process import GaussianProcessClassifier\n",
    "from IISEPaper import predicted_region_divide\n",
    "from IISEPaper import get_labeled_feasible_sample\n",
    "from IISEPaper import get_feasible_rep\n",
    "from IISEPaper import get_div_term\n",
    "from IISEPaper import find_indices\n",
    "from IISEPaper import get_select_index\n",
    "from IISEPaper import GP_predict\n",
    "from IISEPaper import labeled_fea_sample\n",
    "from IISEPaper import remove_label\n",
    "from IISEPaper import get_index_div"
   ]
  },
  {
   "cell_type": "code",
   "execution_count": 3,
   "metadata": {},
   "outputs": [],
   "source": [
    "from Gpregression import GP_predict\n",
    "from Gpregression import candidate_pool_ucb\n",
    "from Gpregression import topQuery"
   ]
  },
  {
   "cell_type": "code",
   "execution_count": 4,
   "metadata": {},
   "outputs": [],
   "source": [
    "from sklearn.metrics import accuracy_score\n",
    "from sklearn.metrics import f1_score\n",
    "from IISEPaper import get_select_index"
   ]
  },
  {
   "cell_type": "code",
   "execution_count": 5,
   "metadata": {},
   "outputs": [],
   "source": [
    "def labeled_fea_sample(x_labeled,y_labeled,y_r_labeled):\n",
    "    index_0 = np.where(y_labeled == 0)[0]\n",
    "    index_1 = np.where(y_labeled == 1)[0]\n",
    "    return x_labeled[index_0], x_labeled[index_1],y_r_labeled[index_0]"
   ]
  },
  {
   "cell_type": "code",
   "execution_count": 6,
   "metadata": {},
   "outputs": [],
   "source": [
    "def remove_label(full_list,remove_list):\n",
    "    for n in remove_list:\n",
    "        while n in full_list:\n",
    "            full_list.remove(n)\n",
    "            \n",
    "    return full_list"
   ]
  },
  {
   "cell_type": "code",
   "execution_count": 7,
   "metadata": {},
   "outputs": [],
   "source": [
    "def get_index_div(div, unlabeled_index):\n",
    "    index=[]\n",
    "    max_div = max(div)\n",
    "    temp = list(div).index(max_div)\n",
    "    index.append(unlabeled_index[temp])\n",
    "    return index"
   ]
  },
  {
   "cell_type": "code",
   "execution_count": 9,
   "metadata": {},
   "outputs": [],
   "source": [
    "data = pd.read_csv('dataset1104.csv')\n",
    "ds,X_feature,y_ground,y_r = get_feature_label(data)\n",
    "full_index = list(np.arange(len(data)))"
   ]
  },
  {
   "cell_type": "code",
   "execution_count": 11,
   "metadata": {},
   "outputs": [
    {
     "data": {
      "text/html": [
       "<div>\n",
       "<style scoped>\n",
       "    .dataframe tbody tr th:only-of-type {\n",
       "        vertical-align: middle;\n",
       "    }\n",
       "\n",
       "    .dataframe tbody tr th {\n",
       "        vertical-align: top;\n",
       "    }\n",
       "\n",
       "    .dataframe thead th {\n",
       "        text-align: right;\n",
       "    }\n",
       "</style>\n",
       "<table border=\"1\" class=\"dataframe\">\n",
       "  <thead>\n",
       "    <tr style=\"text-align: right;\">\n",
       "      <th></th>\n",
       "      <th>x1</th>\n",
       "      <th>x2</th>\n",
       "      <th>y</th>\n",
       "      <th>l</th>\n",
       "    </tr>\n",
       "  </thead>\n",
       "  <tbody>\n",
       "    <tr>\n",
       "      <th>0</th>\n",
       "      <td>-1.0</td>\n",
       "      <td>-1.0</td>\n",
       "      <td>-0.756802</td>\n",
       "      <td>1</td>\n",
       "    </tr>\n",
       "    <tr>\n",
       "      <th>1</th>\n",
       "      <td>-0.9</td>\n",
       "      <td>-1.0</td>\n",
       "      <td>-0.746802</td>\n",
       "      <td>1</td>\n",
       "    </tr>\n",
       "    <tr>\n",
       "      <th>2</th>\n",
       "      <td>-0.8</td>\n",
       "      <td>-1.0</td>\n",
       "      <td>-0.716802</td>\n",
       "      <td>1</td>\n",
       "    </tr>\n",
       "    <tr>\n",
       "      <th>3</th>\n",
       "      <td>-0.7</td>\n",
       "      <td>-1.0</td>\n",
       "      <td>-0.666802</td>\n",
       "      <td>1</td>\n",
       "    </tr>\n",
       "    <tr>\n",
       "      <th>4</th>\n",
       "      <td>-0.6</td>\n",
       "      <td>-1.0</td>\n",
       "      <td>-0.596802</td>\n",
       "      <td>1</td>\n",
       "    </tr>\n",
       "    <tr>\n",
       "      <th>...</th>\n",
       "      <td>...</td>\n",
       "      <td>...</td>\n",
       "      <td>...</td>\n",
       "      <td>...</td>\n",
       "    </tr>\n",
       "    <tr>\n",
       "      <th>436</th>\n",
       "      <td>0.6</td>\n",
       "      <td>1.0</td>\n",
       "      <td>1.803198</td>\n",
       "      <td>1</td>\n",
       "    </tr>\n",
       "    <tr>\n",
       "      <th>437</th>\n",
       "      <td>0.7</td>\n",
       "      <td>1.0</td>\n",
       "      <td>2.133198</td>\n",
       "      <td>1</td>\n",
       "    </tr>\n",
       "    <tr>\n",
       "      <th>438</th>\n",
       "      <td>0.8</td>\n",
       "      <td>1.0</td>\n",
       "      <td>2.483198</td>\n",
       "      <td>1</td>\n",
       "    </tr>\n",
       "    <tr>\n",
       "      <th>439</th>\n",
       "      <td>0.9</td>\n",
       "      <td>1.0</td>\n",
       "      <td>2.853198</td>\n",
       "      <td>1</td>\n",
       "    </tr>\n",
       "    <tr>\n",
       "      <th>440</th>\n",
       "      <td>1.0</td>\n",
       "      <td>1.0</td>\n",
       "      <td>3.243198</td>\n",
       "      <td>0</td>\n",
       "    </tr>\n",
       "  </tbody>\n",
       "</table>\n",
       "<p>441 rows × 4 columns</p>\n",
       "</div>"
      ],
      "text/plain": [
       "      x1   x2         y  l\n",
       "0   -1.0 -1.0 -0.756802  1\n",
       "1   -0.9 -1.0 -0.746802  1\n",
       "2   -0.8 -1.0 -0.716802  1\n",
       "3   -0.7 -1.0 -0.666802  1\n",
       "4   -0.6 -1.0 -0.596802  1\n",
       "..   ...  ...       ... ..\n",
       "436  0.6  1.0  1.803198  1\n",
       "437  0.7  1.0  2.133198  1\n",
       "438  0.8  1.0  2.483198  1\n",
       "439  0.9  1.0  2.853198  1\n",
       "440  1.0  1.0  3.243198  0\n",
       "\n",
       "[441 rows x 4 columns]"
      ]
     },
     "execution_count": 11,
     "metadata": {},
     "output_type": "execute_result"
    }
   ],
   "source": [
    "data"
   ]
  },
  {
   "cell_type": "code",
   "execution_count": 10,
   "metadata": {},
   "outputs": [],
   "source": [
    "index_file = np.load('data2_5_index.npy',allow_pickle = True)"
   ]
  },
  {
   "cell_type": "code",
   "execution_count": 11,
   "metadata": {},
   "outputs": [
    {
     "name": "stdout",
     "output_type": "stream",
     "text": [
      "Round 0 finished\n",
      "Round 1 finished\n",
      "Round 2 finished\n",
      "Round 3 finished\n",
      "Round 4 finished\n",
      "Round 5 finished\n",
      "Round 6 finished\n",
      "Round 7 finished\n",
      "Round 8 finished\n",
      "Round 9 finished\n",
      "Round 10 finished\n",
      "Round 11 finished\n",
      "Round 12 finished\n",
      "Round 13 finished\n",
      "Round 14 finished\n",
      "Round 15 finished\n",
      "Round 16 finished\n",
      "Round 17 finished\n",
      "Round 18 finished\n",
      "Round 19 finished\n",
      "Round 20 finished\n"
     ]
    }
   ],
   "source": [
    "result=[]\n",
    "acc=[]\n",
    "for n in range(len(index_file)):\n",
    "    labeled_index = list(index_file[n])\n",
    "    full_index = list(np.arange(len(data)))\n",
    "    x_labeled = X_feature[labeled_index]\n",
    "    y_labeled = y_ground[labeled_index]\n",
    "    y_r_labeled = y_r[labeled_index]\n",
    "    unlabeled_index = remove_label(full_index,labeled_index)\n",
    "    unlabeled_feature = X_feature[unlabeled_index]\n",
    "    r_selected = y_r[labeled_index]\n",
    "    labeled_feasible_sample, labeled_infeasible_sample,labeled_r = labeled_fea_sample(x_labeled,y_labeled,r_selected)\n",
    "    r=[min(labeled_r)-1]\n",
    "    f1=[]\n",
    "    l=0\n",
    "    \n",
    "    # Change the termination criteria when test the objective optimization performance\n",
    "    \n",
    "    #while min(r) > 0 and len(r)<50:  \n",
    "    \n",
    "    while l<15:\n",
    "        \n",
    "        #set initial goast training set\n",
    "        training_x = x_labeled\n",
    "        training_y = r_selected.copy()\n",
    "        y_pred_labeled_sudo,sigma_labeled_sudo = GP_predict(labeled_feasible_sample,labeled_r,labeled_infeasible_sample)\n",
    "        training_y[np.where(y_labeled == 1)[0]]=y_pred_labeled_sudo\n",
    "        \n",
    "        #compute contrained ucb value using goast training set\n",
    "        model = GaussianProcessClassifier()\n",
    "        y_c_pred , y_prob , y_c_uncertainty = c_prediction(x_labeled, y_labeled, unlabeled_feature,model)\n",
    "\n",
    "        \n",
    "        y_c = y_ground.copy()\n",
    "        y_c[unlabeled_index] = y_c_pred\n",
    "        f1.append(accuracy_score(y_ground, y_c))\n",
    "\n",
    "        y_pred_pool,sigma_pool = GP_predict(training_x,training_y,unlabeled_feature)\n",
    "        ucb = -y_pred_pool+ 2*sigma_pool\n",
    "        constrain_ucb = (1-y_c_pred) * (np.amax(y_prob, axis=1)) *ucb \n",
    "        \n",
    "        #test \n",
    "        y_pred_pool.shape == y_c_pred.shape == constrain_ucb.shape\n",
    "       \n",
    "        #1select samples\n",
    "        select_index_0 = get_index_div(constrain_ucb, unlabeled_index)\n",
    "        max_0 = np.argmax(constrain_ucb)\n",
    "        x_sudo = np.r_[training_x,X_feature[select_index_0]]\n",
    "        y_r_sudo = np.append(training_y,y_pred_pool[max_0])\n",
    "        labeled_index = labeled_index + select_index_0\n",
    "        unlabeled_index = remove_label(full_index,labeled_index)\n",
    "        unlabeled_feature = X_feature[unlabeled_index]\n",
    "        y_pred_batch,sigma_bacth = GP_predict(x_sudo,y_r_sudo,unlabeled_feature)\n",
    "        \n",
    "        #2select samples\n",
    "        select_index_1 = get_index_div(sigma_bacth, unlabeled_index)\n",
    "        labeled_index = labeled_index + select_index_1\n",
    "        unlabeled_index = remove_label(full_index,labeled_index)\n",
    "        unlabeled_feature = X_feature[unlabeled_index]\n",
    "        x_class_sudo =  np.r_[x_labeled,X_feature[select_index_0],X_feature[select_index_1]]\n",
    "        y_class_sudo = np.append(y_labeled,[0,0])\n",
    "        y_batch,y_batch_pro,y_batch_uncertainty = c_prediction(x_class_sudo, y_class_sudo, unlabeled_feature,model)\n",
    "        \n",
    "        #2select samples\n",
    "        select_index_2 = get_index_div(y_batch_uncertainty, unlabeled_index)\n",
    "        labeled_index = labeled_index + select_index_2\n",
    "        x_labeled = X_feature[labeled_index]\n",
    "        y_labeled = y_ground[labeled_index]\n",
    "        y_r_labeled = y_r[labeled_index]\n",
    "        unlabeled_index = remove_label(full_index,labeled_index)\n",
    "        unlabeled_feature = X_feature[unlabeled_index]\n",
    "        r_selected = y_r[labeled_index]\n",
    "        \n",
    "        labeled_feasible_sample, labeled_infeasible_sample,labeled_r = labeled_fea_sample(x_labeled,y_labeled,r_selected)\n",
    "        r.append(min(labeled_r)-1)\n",
    "        l=l+1\n",
    "    \n",
    "    result.append(r)\n",
    "    acc.append(f1)\n",
    "    print('Round {} finished'.format(n))"
   ]
  },
  {
   "cell_type": "raw",
   "metadata": {},
   "source": [
    "for i in r:\n",
    "    print(i)"
   ]
  },
  {
   "cell_type": "raw",
   "metadata": {},
   "source": [
    "len(r)"
   ]
  },
  {
   "cell_type": "code",
   "execution_count": 12,
   "metadata": {},
   "outputs": [
    {
     "data": {
      "text/plain": [
       "21"
      ]
     },
     "execution_count": 12,
     "metadata": {},
     "output_type": "execute_result"
    }
   ],
   "source": [
    "len(result)"
   ]
  },
  {
   "cell_type": "code",
   "execution_count": null,
   "metadata": {},
   "outputs": [],
   "source": [
    "from itertools import zip_longest\n",
    "\n",
    "temp = np.array(list(zip_longest(*result, fillvalue=0))).T"
   ]
  },
  {
   "cell_type": "raw",
   "metadata": {},
   "source": [
    "mean = temp.mean(axis=0)\n",
    "std = temp.std(axis=0)"
   ]
  },
  {
   "cell_type": "code",
   "execution_count": 13,
   "metadata": {},
   "outputs": [],
   "source": [
    "mean_al=np.array(acc).mean(axis=0)\n",
    "std_al = np.array(acc).std(axis=0)"
   ]
  },
  {
   "cell_type": "code",
   "execution_count": 14,
   "metadata": {},
   "outputs": [
    {
     "data": {
      "text/plain": [
       "array([0.86243386, 0.87431163, 0.88295001, 0.89018465, 0.89763524,\n",
       "       0.90076666, 0.90422201, 0.90897311, 0.91394018, 0.91685563,\n",
       "       0.91955512, 0.92247058, 0.9265738 , 0.92851744, 0.93283663])"
      ]
     },
     "execution_count": 14,
     "metadata": {},
     "output_type": "execute_result"
    }
   ],
   "source": [
    "mean_al"
   ]
  },
  {
   "cell_type": "code",
   "execution_count": 15,
   "metadata": {},
   "outputs": [
    {
     "data": {
      "text/plain": [
       "array([0.04503362, 0.03262524, 0.03402063, 0.0269175 , 0.02813363,\n",
       "       0.01940453, 0.01580197, 0.01555807, 0.01416058, 0.01298543,\n",
       "       0.01114443, 0.01203187, 0.01122885, 0.01062709, 0.01142342])"
      ]
     },
     "execution_count": 15,
     "metadata": {},
     "output_type": "execute_result"
    }
   ],
   "source": [
    "std_al"
   ]
  }
 ],
 "metadata": {
  "kernelspec": {
   "display_name": "Python 3",
   "language": "python",
   "name": "python3"
  },
  "language_info": {
   "codemirror_mode": {
    "name": "ipython",
    "version": 3
   },
   "file_extension": ".py",
   "mimetype": "text/x-python",
   "name": "python",
   "nbconvert_exporter": "python",
   "pygments_lexer": "ipython3",
   "version": "3.8.3"
  }
 },
 "nbformat": 4,
 "nbformat_minor": 4
}
